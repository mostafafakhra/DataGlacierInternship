{
 "cells": [
  {
   "cell_type": "markdown",
   "id": "8255a554-2472-4d1c-9570-0200a244fe9d",
   "metadata": {},
   "source": [
    "# Week 2 Notebook"
   ]
  },
  {
   "cell_type": "markdown",
   "id": "6d55bb49-0ad1-4339-b4dc-90775e6d7ccb",
   "metadata": {},
   "source": [
    "#### Name: Mustafa Fakhra"
   ]
  },
  {
   "cell_type": "markdown",
   "id": "395ac715-a28a-416e-95a9-bf67384aea78",
   "metadata": {},
   "source": [
    "#### Email: mostafafakhra@hotmail.com"
   ]
  },
  {
   "cell_type": "markdown",
   "id": "0a1c8ebe-c62f-4892-b5c9-5bc030e00665",
   "metadata": {},
   "source": [
    "#### Country: UAE, Dubai"
   ]
  },
  {
   "cell_type": "markdown",
   "id": "6318da4e-a602-4d28-b00e-9314854749a1",
   "metadata": {},
   "source": [
    "## Libraries Importing"
   ]
  },
  {
   "cell_type": "code",
   "execution_count": 68,
   "id": "a8e90ac3-f295-4a75-8e7e-25f149a35395",
   "metadata": {},
   "outputs": [],
   "source": [
    "import pandas as pd\n",
    "import numpy as np\n",
    "import matplotlib.pyplot as mp\n",
    "import seaborn as sb\n",
    "import datetime"
   ]
  },
  {
   "cell_type": "markdown",
   "id": "e54d67bb-cf98-4454-8485-d2e1b8acc30f",
   "metadata": {},
   "source": [
    "## Datasets Importing"
   ]
  },
  {
   "cell_type": "code",
   "execution_count": 69,
   "id": "8a86bba8-e03f-4908-9fd8-57a5edcbfd65",
   "metadata": {},
   "outputs": [],
   "source": [
    "city = pd.read_csv(r\"C:\\Users\\mosta\\Desktop\\City.csv\")\n",
    "cabdata = pd.read_csv(r\"C:\\Users\\mosta\\Desktop\\Cab_Data.csv\")\n",
    "customers = pd.read_csv(r\"C:\\Users\\mosta\\Desktop\\Customer_ID.csv\")\n",
    "transactions = pd.read_csv(r\"C:\\Users\\mosta\\Desktop\\Transaction_ID.csv\")"
   ]
  },
  {
   "cell_type": "code",
   "execution_count": 70,
   "id": "8229bb32-a10e-4a10-85fc-1eb4988877e3",
   "metadata": {},
   "outputs": [
    {
     "data": {
      "text/html": [
       "<div>\n",
       "<style scoped>\n",
       "    .dataframe tbody tr th:only-of-type {\n",
       "        vertical-align: middle;\n",
       "    }\n",
       "\n",
       "    .dataframe tbody tr th {\n",
       "        vertical-align: top;\n",
       "    }\n",
       "\n",
       "    .dataframe thead th {\n",
       "        text-align: right;\n",
       "    }\n",
       "</style>\n",
       "<table border=\"1\" class=\"dataframe\">\n",
       "  <thead>\n",
       "    <tr style=\"text-align: right;\">\n",
       "      <th></th>\n",
       "      <th>City</th>\n",
       "      <th>Population</th>\n",
       "      <th>Users</th>\n",
       "    </tr>\n",
       "  </thead>\n",
       "  <tbody>\n",
       "    <tr>\n",
       "      <th>0</th>\n",
       "      <td>NEW YORK NY</td>\n",
       "      <td>8,405,837</td>\n",
       "      <td>302,149</td>\n",
       "    </tr>\n",
       "    <tr>\n",
       "      <th>1</th>\n",
       "      <td>CHICAGO IL</td>\n",
       "      <td>1,955,130</td>\n",
       "      <td>164,468</td>\n",
       "    </tr>\n",
       "    <tr>\n",
       "      <th>2</th>\n",
       "      <td>LOS ANGELES CA</td>\n",
       "      <td>1,595,037</td>\n",
       "      <td>144,132</td>\n",
       "    </tr>\n",
       "    <tr>\n",
       "      <th>3</th>\n",
       "      <td>MIAMI FL</td>\n",
       "      <td>1,339,155</td>\n",
       "      <td>17,675</td>\n",
       "    </tr>\n",
       "    <tr>\n",
       "      <th>4</th>\n",
       "      <td>SILICON VALLEY</td>\n",
       "      <td>1,177,609</td>\n",
       "      <td>27,247</td>\n",
       "    </tr>\n",
       "  </tbody>\n",
       "</table>\n",
       "</div>"
      ],
      "text/plain": [
       "             City   Population      Users\n",
       "0     NEW YORK NY   8,405,837    302,149 \n",
       "1      CHICAGO IL   1,955,130    164,468 \n",
       "2  LOS ANGELES CA   1,595,037    144,132 \n",
       "3        MIAMI FL   1,339,155     17,675 \n",
       "4  SILICON VALLEY   1,177,609     27,247 "
      ]
     },
     "execution_count": 70,
     "metadata": {},
     "output_type": "execute_result"
    }
   ],
   "source": [
    "city.head()"
   ]
  },
  {
   "cell_type": "code",
   "execution_count": 71,
   "id": "d380fbe4-4d52-492c-b2d7-f0dbb104337e",
   "metadata": {},
   "outputs": [
    {
     "name": "stdout",
     "output_type": "stream",
     "text": [
      "<class 'pandas.core.frame.DataFrame'>\n",
      "RangeIndex: 20 entries, 0 to 19\n",
      "Data columns (total 3 columns):\n",
      " #   Column      Non-Null Count  Dtype \n",
      "---  ------      --------------  ----- \n",
      " 0   City        20 non-null     object\n",
      " 1   Population  20 non-null     object\n",
      " 2   Users       20 non-null     object\n",
      "dtypes: object(3)\n",
      "memory usage: 608.0+ bytes\n"
     ]
    }
   ],
   "source": [
    "city.info()"
   ]
  },
  {
   "cell_type": "code",
   "execution_count": 72,
   "id": "68a2e3d1-65dc-41bd-8595-e8e21640fd41",
   "metadata": {},
   "outputs": [
    {
     "data": {
      "text/html": [
       "<div>\n",
       "<style scoped>\n",
       "    .dataframe tbody tr th:only-of-type {\n",
       "        vertical-align: middle;\n",
       "    }\n",
       "\n",
       "    .dataframe tbody tr th {\n",
       "        vertical-align: top;\n",
       "    }\n",
       "\n",
       "    .dataframe thead th {\n",
       "        text-align: right;\n",
       "    }\n",
       "</style>\n",
       "<table border=\"1\" class=\"dataframe\">\n",
       "  <thead>\n",
       "    <tr style=\"text-align: right;\">\n",
       "      <th></th>\n",
       "      <th>Transaction ID</th>\n",
       "      <th>Date of Travel</th>\n",
       "      <th>Company</th>\n",
       "      <th>City</th>\n",
       "      <th>KM Travelled</th>\n",
       "      <th>Price Charged</th>\n",
       "      <th>Cost of Trip</th>\n",
       "    </tr>\n",
       "  </thead>\n",
       "  <tbody>\n",
       "    <tr>\n",
       "      <th>0</th>\n",
       "      <td>10000011</td>\n",
       "      <td>42377</td>\n",
       "      <td>Pink Cab</td>\n",
       "      <td>ATLANTA GA</td>\n",
       "      <td>30.45</td>\n",
       "      <td>370.95</td>\n",
       "      <td>313.635</td>\n",
       "    </tr>\n",
       "    <tr>\n",
       "      <th>1</th>\n",
       "      <td>10000012</td>\n",
       "      <td>42375</td>\n",
       "      <td>Pink Cab</td>\n",
       "      <td>ATLANTA GA</td>\n",
       "      <td>28.62</td>\n",
       "      <td>358.52</td>\n",
       "      <td>334.854</td>\n",
       "    </tr>\n",
       "    <tr>\n",
       "      <th>2</th>\n",
       "      <td>10000013</td>\n",
       "      <td>42371</td>\n",
       "      <td>Pink Cab</td>\n",
       "      <td>ATLANTA GA</td>\n",
       "      <td>9.04</td>\n",
       "      <td>125.20</td>\n",
       "      <td>97.632</td>\n",
       "    </tr>\n",
       "    <tr>\n",
       "      <th>3</th>\n",
       "      <td>10000014</td>\n",
       "      <td>42376</td>\n",
       "      <td>Pink Cab</td>\n",
       "      <td>ATLANTA GA</td>\n",
       "      <td>33.17</td>\n",
       "      <td>377.40</td>\n",
       "      <td>351.602</td>\n",
       "    </tr>\n",
       "    <tr>\n",
       "      <th>4</th>\n",
       "      <td>10000015</td>\n",
       "      <td>42372</td>\n",
       "      <td>Pink Cab</td>\n",
       "      <td>ATLANTA GA</td>\n",
       "      <td>8.73</td>\n",
       "      <td>114.62</td>\n",
       "      <td>97.776</td>\n",
       "    </tr>\n",
       "  </tbody>\n",
       "</table>\n",
       "</div>"
      ],
      "text/plain": [
       "   Transaction ID  Date of Travel   Company        City  KM Travelled  \\\n",
       "0        10000011           42377  Pink Cab  ATLANTA GA         30.45   \n",
       "1        10000012           42375  Pink Cab  ATLANTA GA         28.62   \n",
       "2        10000013           42371  Pink Cab  ATLANTA GA          9.04   \n",
       "3        10000014           42376  Pink Cab  ATLANTA GA         33.17   \n",
       "4        10000015           42372  Pink Cab  ATLANTA GA          8.73   \n",
       "\n",
       "   Price Charged  Cost of Trip  \n",
       "0         370.95       313.635  \n",
       "1         358.52       334.854  \n",
       "2         125.20        97.632  \n",
       "3         377.40       351.602  \n",
       "4         114.62        97.776  "
      ]
     },
     "execution_count": 72,
     "metadata": {},
     "output_type": "execute_result"
    }
   ],
   "source": [
    "cabdata.head()"
   ]
  },
  {
   "cell_type": "code",
   "execution_count": 73,
   "id": "aaa5536f-732b-4c9d-8cf7-01661bcdaaa1",
   "metadata": {},
   "outputs": [
    {
     "name": "stdout",
     "output_type": "stream",
     "text": [
      "<class 'pandas.core.frame.DataFrame'>\n",
      "RangeIndex: 359392 entries, 0 to 359391\n",
      "Data columns (total 7 columns):\n",
      " #   Column          Non-Null Count   Dtype  \n",
      "---  ------          --------------   -----  \n",
      " 0   Transaction ID  359392 non-null  int64  \n",
      " 1   Date of Travel  359392 non-null  int64  \n",
      " 2   Company         359392 non-null  object \n",
      " 3   City            359392 non-null  object \n",
      " 4   KM Travelled    359392 non-null  float64\n",
      " 5   Price Charged   359392 non-null  float64\n",
      " 6   Cost of Trip    359392 non-null  float64\n",
      "dtypes: float64(3), int64(2), object(2)\n",
      "memory usage: 19.2+ MB\n"
     ]
    }
   ],
   "source": [
    "cabdata.info()"
   ]
  },
  {
   "cell_type": "code",
   "execution_count": 74,
   "id": "fef73044-3a12-42ba-97fe-ecb4e0c96bba",
   "metadata": {},
   "outputs": [
    {
     "data": {
      "text/html": [
       "<div>\n",
       "<style scoped>\n",
       "    .dataframe tbody tr th:only-of-type {\n",
       "        vertical-align: middle;\n",
       "    }\n",
       "\n",
       "    .dataframe tbody tr th {\n",
       "        vertical-align: top;\n",
       "    }\n",
       "\n",
       "    .dataframe thead th {\n",
       "        text-align: right;\n",
       "    }\n",
       "</style>\n",
       "<table border=\"1\" class=\"dataframe\">\n",
       "  <thead>\n",
       "    <tr style=\"text-align: right;\">\n",
       "      <th></th>\n",
       "      <th>Customer ID</th>\n",
       "      <th>Gender</th>\n",
       "      <th>Age</th>\n",
       "      <th>Income (USD/Month)</th>\n",
       "    </tr>\n",
       "  </thead>\n",
       "  <tbody>\n",
       "    <tr>\n",
       "      <th>0</th>\n",
       "      <td>29290</td>\n",
       "      <td>Male</td>\n",
       "      <td>28</td>\n",
       "      <td>10813</td>\n",
       "    </tr>\n",
       "    <tr>\n",
       "      <th>1</th>\n",
       "      <td>27703</td>\n",
       "      <td>Male</td>\n",
       "      <td>27</td>\n",
       "      <td>9237</td>\n",
       "    </tr>\n",
       "    <tr>\n",
       "      <th>2</th>\n",
       "      <td>28712</td>\n",
       "      <td>Male</td>\n",
       "      <td>53</td>\n",
       "      <td>11242</td>\n",
       "    </tr>\n",
       "    <tr>\n",
       "      <th>3</th>\n",
       "      <td>28020</td>\n",
       "      <td>Male</td>\n",
       "      <td>23</td>\n",
       "      <td>23327</td>\n",
       "    </tr>\n",
       "    <tr>\n",
       "      <th>4</th>\n",
       "      <td>27182</td>\n",
       "      <td>Male</td>\n",
       "      <td>33</td>\n",
       "      <td>8536</td>\n",
       "    </tr>\n",
       "  </tbody>\n",
       "</table>\n",
       "</div>"
      ],
      "text/plain": [
       "   Customer ID Gender  Age  Income (USD/Month)\n",
       "0        29290   Male   28               10813\n",
       "1        27703   Male   27                9237\n",
       "2        28712   Male   53               11242\n",
       "3        28020   Male   23               23327\n",
       "4        27182   Male   33                8536"
      ]
     },
     "execution_count": 74,
     "metadata": {},
     "output_type": "execute_result"
    }
   ],
   "source": [
    "customers.head() "
   ]
  },
  {
   "cell_type": "code",
   "execution_count": 75,
   "id": "6346b56b-978d-4e63-b1ee-ef21ed941adc",
   "metadata": {},
   "outputs": [
    {
     "name": "stdout",
     "output_type": "stream",
     "text": [
      "<class 'pandas.core.frame.DataFrame'>\n",
      "RangeIndex: 49171 entries, 0 to 49170\n",
      "Data columns (total 4 columns):\n",
      " #   Column              Non-Null Count  Dtype \n",
      "---  ------              --------------  ----- \n",
      " 0   Customer ID         49171 non-null  int64 \n",
      " 1   Gender              49171 non-null  object\n",
      " 2   Age                 49171 non-null  int64 \n",
      " 3   Income (USD/Month)  49171 non-null  int64 \n",
      "dtypes: int64(3), object(1)\n",
      "memory usage: 1.5+ MB\n"
     ]
    }
   ],
   "source": [
    "customers.info()"
   ]
  },
  {
   "cell_type": "code",
   "execution_count": 76,
   "id": "cf481a77-c249-4bdd-8c0a-cbbe5fc1d7dd",
   "metadata": {},
   "outputs": [
    {
     "data": {
      "text/html": [
       "<div>\n",
       "<style scoped>\n",
       "    .dataframe tbody tr th:only-of-type {\n",
       "        vertical-align: middle;\n",
       "    }\n",
       "\n",
       "    .dataframe tbody tr th {\n",
       "        vertical-align: top;\n",
       "    }\n",
       "\n",
       "    .dataframe thead th {\n",
       "        text-align: right;\n",
       "    }\n",
       "</style>\n",
       "<table border=\"1\" class=\"dataframe\">\n",
       "  <thead>\n",
       "    <tr style=\"text-align: right;\">\n",
       "      <th></th>\n",
       "      <th>Transaction ID</th>\n",
       "      <th>Customer ID</th>\n",
       "      <th>Payment_Mode</th>\n",
       "    </tr>\n",
       "  </thead>\n",
       "  <tbody>\n",
       "    <tr>\n",
       "      <th>0</th>\n",
       "      <td>10000011</td>\n",
       "      <td>29290</td>\n",
       "      <td>Card</td>\n",
       "    </tr>\n",
       "    <tr>\n",
       "      <th>1</th>\n",
       "      <td>10000012</td>\n",
       "      <td>27703</td>\n",
       "      <td>Card</td>\n",
       "    </tr>\n",
       "    <tr>\n",
       "      <th>2</th>\n",
       "      <td>10000013</td>\n",
       "      <td>28712</td>\n",
       "      <td>Cash</td>\n",
       "    </tr>\n",
       "    <tr>\n",
       "      <th>3</th>\n",
       "      <td>10000014</td>\n",
       "      <td>28020</td>\n",
       "      <td>Cash</td>\n",
       "    </tr>\n",
       "    <tr>\n",
       "      <th>4</th>\n",
       "      <td>10000015</td>\n",
       "      <td>27182</td>\n",
       "      <td>Card</td>\n",
       "    </tr>\n",
       "  </tbody>\n",
       "</table>\n",
       "</div>"
      ],
      "text/plain": [
       "   Transaction ID  Customer ID Payment_Mode\n",
       "0        10000011        29290         Card\n",
       "1        10000012        27703         Card\n",
       "2        10000013        28712         Cash\n",
       "3        10000014        28020         Cash\n",
       "4        10000015        27182         Card"
      ]
     },
     "execution_count": 76,
     "metadata": {},
     "output_type": "execute_result"
    }
   ],
   "source": [
    "transactions.head()"
   ]
  },
  {
   "cell_type": "code",
   "execution_count": 77,
   "id": "833c0be1-3cb5-483e-966c-d4dd04da689a",
   "metadata": {},
   "outputs": [
    {
     "name": "stdout",
     "output_type": "stream",
     "text": [
      "<class 'pandas.core.frame.DataFrame'>\n",
      "RangeIndex: 440098 entries, 0 to 440097\n",
      "Data columns (total 3 columns):\n",
      " #   Column          Non-Null Count   Dtype \n",
      "---  ------          --------------   ----- \n",
      " 0   Transaction ID  440098 non-null  int64 \n",
      " 1   Customer ID     440098 non-null  int64 \n",
      " 2   Payment_Mode    440098 non-null  object\n",
      "dtypes: int64(2), object(1)\n",
      "memory usage: 10.1+ MB\n"
     ]
    }
   ],
   "source": [
    "transactions.info()"
   ]
  },
  {
   "cell_type": "markdown",
   "id": "6f4b1d12-5cdc-473b-bd7e-e3cc2b15a6ba",
   "metadata": {},
   "source": [
    "## Data Conversion for cab_data"
   ]
  },
  {
   "cell_type": "code",
   "execution_count": 79,
   "id": "ade77617-4778-47fc-8d03-36736572dcd5",
   "metadata": {},
   "outputs": [],
   "source": [
    "cabdata['Date of Travel'] = pd.to_datetime(cabdata['Date of Travel'],\n",
    "                                                  unit = 'D',\n",
    "                                                  origin = '1899-12-30')"
   ]
  },
  {
   "cell_type": "code",
   "execution_count": 81,
   "id": "4ffed2d8-c97f-4d1a-8599-5faf8c35be9f",
   "metadata": {},
   "outputs": [
    {
     "name": "stdout",
     "output_type": "stream",
     "text": [
      "cabdata\n",
      "<class 'pandas.core.frame.DataFrame'>\n",
      "RangeIndex: 359392 entries, 0 to 359391\n",
      "Data columns (total 7 columns):\n",
      " #   Column          Non-Null Count   Dtype         \n",
      "---  ------          --------------   -----         \n",
      " 0   Transaction ID  359392 non-null  int64         \n",
      " 1   Date of Travel  359392 non-null  datetime64[ns]\n",
      " 2   Company         359392 non-null  object        \n",
      " 3   City            359392 non-null  object        \n",
      " 4   KM Travelled    359392 non-null  float64       \n",
      " 5   Price Charged   359392 non-null  float64       \n",
      " 6   Cost of Trip    359392 non-null  float64       \n",
      "dtypes: datetime64[ns](1), float64(3), int64(1), object(2)\n",
      "memory usage: 19.2+ MB\n",
      "None        Transaction ID   KM Travelled  Price Charged   Cost of Trip\n",
      "count    3.593920e+05  359392.000000  359392.000000  359392.000000\n",
      "mean     1.022076e+07      22.567254     423.443311     286.190113\n",
      "std      1.268058e+05      12.233526     274.378911     157.993661\n",
      "min      1.000001e+07       1.900000      15.600000      19.000000\n",
      "25%      1.011081e+07      12.000000     206.437500     151.200000\n",
      "50%      1.022104e+07      22.440000     386.360000     282.480000\n",
      "75%      1.033094e+07      32.960000     583.660000     413.683200\n",
      "max      1.044011e+07      48.000000    2048.030000     691.200000\n"
     ]
    }
   ],
   "source": [
    "print('cabdata')\n",
    "print(cabdata.info(),cabdata.describe())"
   ]
  },
  {
   "cell_type": "markdown",
   "id": "c314ec80-38de-4bc8-9363-bab6d7f870c0",
   "metadata": {},
   "source": [
    "## Merging the Datasets Together"
   ]
  },
  {
   "cell_type": "code",
   "execution_count": 83,
   "id": "e7939530-c530-45ff-89bb-0864901ebb56",
   "metadata": {},
   "outputs": [],
   "source": [
    "  #merge cabdata & transactions by Transaction ID\n",
    "data_merge = pd.merge(\n",
    "    cabdata,\n",
    "    transactions,\n",
    "    left_on = 'Transaction ID',\n",
    "    right_on = 'Transaction ID',\n",
    "    validate = 'one_to_one'\n",
    "  )"
   ]
  },
  {
   "cell_type": "code",
   "execution_count": 103,
   "id": "d291e6a3-a54a-4a56-ba93-f93a60f6eaff",
   "metadata": {},
   "outputs": [],
   "source": [
    "  #merge above merged data to customers & sort by Transaction ID & Customer ID\n",
    "main_dataset = pd.merge(\n",
    "  data_merge,\n",
    "  customers,\n",
    "  on = 'Customer ID',\n",
    "  validate = 'many_to_one'\n",
    ").sort_values(\n",
    "  by = ['Date of Travel', 'Customer ID']\n",
    ")"
   ]
  },
  {
   "cell_type": "code",
   "execution_count": 104,
   "id": "114a21a2-4ebc-4e25-a311-d4e1bf3db902",
   "metadata": {},
   "outputs": [
    {
     "data": {
      "text/html": [
       "<div>\n",
       "<style scoped>\n",
       "    .dataframe tbody tr th:only-of-type {\n",
       "        vertical-align: middle;\n",
       "    }\n",
       "\n",
       "    .dataframe tbody tr th {\n",
       "        vertical-align: top;\n",
       "    }\n",
       "\n",
       "    .dataframe thead th {\n",
       "        text-align: right;\n",
       "    }\n",
       "</style>\n",
       "<table border=\"1\" class=\"dataframe\">\n",
       "  <thead>\n",
       "    <tr style=\"text-align: right;\">\n",
       "      <th></th>\n",
       "      <th>Transaction ID</th>\n",
       "      <th>Date of Travel</th>\n",
       "      <th>Company</th>\n",
       "      <th>City</th>\n",
       "      <th>KM Travelled</th>\n",
       "      <th>Price Charged</th>\n",
       "      <th>Cost of Trip</th>\n",
       "      <th>Customer ID</th>\n",
       "      <th>Payment_Mode</th>\n",
       "      <th>Gender</th>\n",
       "      <th>Age</th>\n",
       "      <th>Income (USD/Month)</th>\n",
       "    </tr>\n",
       "  </thead>\n",
       "  <tbody>\n",
       "    <tr>\n",
       "      <th>10422</th>\n",
       "      <td>10000845</td>\n",
       "      <td>2016-01-02</td>\n",
       "      <td>Yellow Cab</td>\n",
       "      <td>NEW YORK NY</td>\n",
       "      <td>17.92</td>\n",
       "      <td>561.71</td>\n",
       "      <td>253.7472</td>\n",
       "      <td>9</td>\n",
       "      <td>Card</td>\n",
       "      <td>Male</td>\n",
       "      <td>32</td>\n",
       "      <td>21212</td>\n",
       "    </tr>\n",
       "    <tr>\n",
       "      <th>14242</th>\n",
       "      <td>10000961</td>\n",
       "      <td>2016-01-02</td>\n",
       "      <td>Yellow Cab</td>\n",
       "      <td>NEW YORK NY</td>\n",
       "      <td>19.04</td>\n",
       "      <td>634.46</td>\n",
       "      <td>253.6128</td>\n",
       "      <td>85</td>\n",
       "      <td>Card</td>\n",
       "      <td>Male</td>\n",
       "      <td>19</td>\n",
       "      <td>19765</td>\n",
       "    </tr>\n",
       "    <tr>\n",
       "      <th>13252</th>\n",
       "      <td>10000929</td>\n",
       "      <td>2016-01-02</td>\n",
       "      <td>Yellow Cab</td>\n",
       "      <td>NEW YORK NY</td>\n",
       "      <td>37.24</td>\n",
       "      <td>1065.31</td>\n",
       "      <td>536.2560</td>\n",
       "      <td>439</td>\n",
       "      <td>Cash</td>\n",
       "      <td>Male</td>\n",
       "      <td>22</td>\n",
       "      <td>5494</td>\n",
       "    </tr>\n",
       "    <tr>\n",
       "      <th>11247</th>\n",
       "      <td>10000869</td>\n",
       "      <td>2016-01-02</td>\n",
       "      <td>Yellow Cab</td>\n",
       "      <td>NEW YORK NY</td>\n",
       "      <td>3.06</td>\n",
       "      <td>104.70</td>\n",
       "      <td>36.7200</td>\n",
       "      <td>475</td>\n",
       "      <td>Cash</td>\n",
       "      <td>Male</td>\n",
       "      <td>36</td>\n",
       "      <td>9959</td>\n",
       "    </tr>\n",
       "    <tr>\n",
       "      <th>2025</th>\n",
       "      <td>10000145</td>\n",
       "      <td>2016-01-02</td>\n",
       "      <td>Pink Cab</td>\n",
       "      <td>NEW YORK NY</td>\n",
       "      <td>2.10</td>\n",
       "      <td>37.18</td>\n",
       "      <td>21.4200</td>\n",
       "      <td>502</td>\n",
       "      <td>Cash</td>\n",
       "      <td>Male</td>\n",
       "      <td>28</td>\n",
       "      <td>15285</td>\n",
       "    </tr>\n",
       "  </tbody>\n",
       "</table>\n",
       "</div>"
      ],
      "text/plain": [
       "       Transaction ID Date of Travel     Company         City  KM Travelled  \\\n",
       "10422        10000845     2016-01-02  Yellow Cab  NEW YORK NY         17.92   \n",
       "14242        10000961     2016-01-02  Yellow Cab  NEW YORK NY         19.04   \n",
       "13252        10000929     2016-01-02  Yellow Cab  NEW YORK NY         37.24   \n",
       "11247        10000869     2016-01-02  Yellow Cab  NEW YORK NY          3.06   \n",
       "2025         10000145     2016-01-02    Pink Cab  NEW YORK NY          2.10   \n",
       "\n",
       "       Price Charged  Cost of Trip  Customer ID Payment_Mode Gender  Age  \\\n",
       "10422         561.71      253.7472            9         Card   Male   32   \n",
       "14242         634.46      253.6128           85         Card   Male   19   \n",
       "13252        1065.31      536.2560          439         Cash   Male   22   \n",
       "11247         104.70       36.7200          475         Cash   Male   36   \n",
       "2025           37.18       21.4200          502         Cash   Male   28   \n",
       "\n",
       "       Income (USD/Month)  \n",
       "10422               21212  \n",
       "14242               19765  \n",
       "13252                5494  \n",
       "11247                9959  \n",
       "2025                15285  "
      ]
     },
     "execution_count": 104,
     "metadata": {},
     "output_type": "execute_result"
    }
   ],
   "source": [
    "# pr(main_dataset).to_file('main_dataset_pr.html')\n",
    "main_dataset.to_csv('main_dataset.csv')\n",
    "main_dataset.head()"
   ]
  },
  {
   "cell_type": "markdown",
   "id": "ac7343f7-975c-43b0-b6ba-a17af3658ef2",
   "metadata": {},
   "source": [
    "## Adding Features"
   ]
  },
  {
   "cell_type": "code",
   "execution_count": 86,
   "id": "3c506f8d-96f3-4443-88a8-0c5a237db68b",
   "metadata": {},
   "outputs": [
    {
     "data": {
      "text/html": [
       "<div>\n",
       "<style scoped>\n",
       "    .dataframe tbody tr th:only-of-type {\n",
       "        vertical-align: middle;\n",
       "    }\n",
       "\n",
       "    .dataframe tbody tr th {\n",
       "        vertical-align: top;\n",
       "    }\n",
       "\n",
       "    .dataframe thead th {\n",
       "        text-align: right;\n",
       "    }\n",
       "</style>\n",
       "<table border=\"1\" class=\"dataframe\">\n",
       "  <thead>\n",
       "    <tr style=\"text-align: right;\">\n",
       "      <th></th>\n",
       "      <th>Transaction ID</th>\n",
       "      <th>Date of Travel</th>\n",
       "      <th>Company</th>\n",
       "      <th>City</th>\n",
       "      <th>KM Travelled</th>\n",
       "      <th>Price Charged</th>\n",
       "      <th>Price per KM</th>\n",
       "      <th>Cost of Trip</th>\n",
       "      <th>Cost per KM</th>\n",
       "      <th>Customer ID</th>\n",
       "      <th>Payment_Mode</th>\n",
       "      <th>Gender</th>\n",
       "      <th>Age</th>\n",
       "      <th>Income (USD/Month)</th>\n",
       "    </tr>\n",
       "  </thead>\n",
       "  <tbody>\n",
       "    <tr>\n",
       "      <th>10422</th>\n",
       "      <td>10000845</td>\n",
       "      <td>2016-01-02</td>\n",
       "      <td>Yellow Cab</td>\n",
       "      <td>NEW YORK NY</td>\n",
       "      <td>17.92</td>\n",
       "      <td>561.71</td>\n",
       "      <td>31.345424</td>\n",
       "      <td>253.7472</td>\n",
       "      <td>14.16</td>\n",
       "      <td>9</td>\n",
       "      <td>Card</td>\n",
       "      <td>Male</td>\n",
       "      <td>32</td>\n",
       "      <td>21212</td>\n",
       "    </tr>\n",
       "    <tr>\n",
       "      <th>14242</th>\n",
       "      <td>10000961</td>\n",
       "      <td>2016-01-02</td>\n",
       "      <td>Yellow Cab</td>\n",
       "      <td>NEW YORK NY</td>\n",
       "      <td>19.04</td>\n",
       "      <td>634.46</td>\n",
       "      <td>33.322479</td>\n",
       "      <td>253.6128</td>\n",
       "      <td>13.32</td>\n",
       "      <td>85</td>\n",
       "      <td>Card</td>\n",
       "      <td>Male</td>\n",
       "      <td>19</td>\n",
       "      <td>19765</td>\n",
       "    </tr>\n",
       "    <tr>\n",
       "      <th>13252</th>\n",
       "      <td>10000929</td>\n",
       "      <td>2016-01-02</td>\n",
       "      <td>Yellow Cab</td>\n",
       "      <td>NEW YORK NY</td>\n",
       "      <td>37.24</td>\n",
       "      <td>1065.31</td>\n",
       "      <td>28.606606</td>\n",
       "      <td>536.2560</td>\n",
       "      <td>14.40</td>\n",
       "      <td>439</td>\n",
       "      <td>Cash</td>\n",
       "      <td>Male</td>\n",
       "      <td>22</td>\n",
       "      <td>5494</td>\n",
       "    </tr>\n",
       "    <tr>\n",
       "      <th>11247</th>\n",
       "      <td>10000869</td>\n",
       "      <td>2016-01-02</td>\n",
       "      <td>Yellow Cab</td>\n",
       "      <td>NEW YORK NY</td>\n",
       "      <td>3.06</td>\n",
       "      <td>104.70</td>\n",
       "      <td>34.215686</td>\n",
       "      <td>36.7200</td>\n",
       "      <td>12.00</td>\n",
       "      <td>475</td>\n",
       "      <td>Cash</td>\n",
       "      <td>Male</td>\n",
       "      <td>36</td>\n",
       "      <td>9959</td>\n",
       "    </tr>\n",
       "    <tr>\n",
       "      <th>2025</th>\n",
       "      <td>10000145</td>\n",
       "      <td>2016-01-02</td>\n",
       "      <td>Pink Cab</td>\n",
       "      <td>NEW YORK NY</td>\n",
       "      <td>2.10</td>\n",
       "      <td>37.18</td>\n",
       "      <td>17.704762</td>\n",
       "      <td>21.4200</td>\n",
       "      <td>10.20</td>\n",
       "      <td>502</td>\n",
       "      <td>Cash</td>\n",
       "      <td>Male</td>\n",
       "      <td>28</td>\n",
       "      <td>15285</td>\n",
       "    </tr>\n",
       "  </tbody>\n",
       "</table>\n",
       "</div>"
      ],
      "text/plain": [
       "       Transaction ID Date of Travel     Company         City  KM Travelled  \\\n",
       "10422        10000845     2016-01-02  Yellow Cab  NEW YORK NY         17.92   \n",
       "14242        10000961     2016-01-02  Yellow Cab  NEW YORK NY         19.04   \n",
       "13252        10000929     2016-01-02  Yellow Cab  NEW YORK NY         37.24   \n",
       "11247        10000869     2016-01-02  Yellow Cab  NEW YORK NY          3.06   \n",
       "2025         10000145     2016-01-02    Pink Cab  NEW YORK NY          2.10   \n",
       "\n",
       "       Price Charged  Price per KM  Cost of Trip  Cost per KM  Customer ID  \\\n",
       "10422         561.71     31.345424      253.7472        14.16            9   \n",
       "14242         634.46     33.322479      253.6128        13.32           85   \n",
       "13252        1065.31     28.606606      536.2560        14.40          439   \n",
       "11247         104.70     34.215686       36.7200        12.00          475   \n",
       "2025           37.18     17.704762       21.4200        10.20          502   \n",
       "\n",
       "      Payment_Mode Gender  Age  Income (USD/Month)  \n",
       "10422         Card   Male   32               21212  \n",
       "14242         Card   Male   19               19765  \n",
       "13252         Cash   Male   22                5494  \n",
       "11247         Cash   Male   36                9959  \n",
       "2025          Cash   Male   28               15285  "
      ]
     },
     "execution_count": 86,
     "metadata": {},
     "output_type": "execute_result"
    }
   ],
   "source": [
    "main_dataset_copy = main_dataset.copy() #create a copy for experimentation\n",
    "price_per_km = main_dataset['Price Charged'] / main_dataset['KM Travelled']\n",
    "\n",
    "main_dataset.insert(6, \n",
    "'Price per KM', main_dataset['Price Charged'] / main_dataset['KM Travelled'], \n",
    "True)\n",
    "main_dataset.insert(8, \n",
    "'Cost per KM', main_dataset['Cost of Trip']/main_dataset['KM Travelled'], \n",
    "True)\n",
    "\n",
    "main_dataset.head()"
   ]
  },
  {
   "cell_type": "markdown",
   "id": "3cfb27a7-8cf7-4694-ac51-edbfc21ddce7",
   "metadata": {},
   "source": [
    "## Hypothesis 1: Yellow Cab has a larger market share than Pink Cab"
   ]
  },
  {
   "cell_type": "code",
   "execution_count": 91,
   "id": "f08fbd38-6612-4a0b-b0f0-a8427ff1ee98",
   "metadata": {},
   "outputs": [
    {
     "data": {
      "text/plain": [
       "<AxesSubplot:xlabel='Company', ylabel='count'>"
      ]
     },
     "execution_count": 91,
     "metadata": {},
     "output_type": "execute_result"
    },
    {
     "data": {
      "image/png": "[encoded data removed]",
      "text/plain": [
       "<Figure size 432x288 with 1 Axes>"
      ]
     },
     "metadata": {
      "needs_background": "light"
     },
     "output_type": "display_data"
    }
   ],
   "source": [
    "sb.countplot(x = main_dataset.Company)\n",
    "#Results of Hypothesis 1:   True."
   ]
  },
  {
   "cell_type": "markdown",
   "id": "7cb48810-166f-44e3-900e-4c11f07579d0",
   "metadata": {},
   "source": [
    "## Hypothesis 2: Both Cabs have similar distributed client base, based on a). age, b). gender, c). income & d). location"
   ]
  },
  {
   "cell_type": "code",
   "execution_count": 92,
   "id": "573a290b-239e-4afd-afa5-a3c8aede47dc",
   "metadata": {},
   "outputs": [
    {
     "data": {
      "image/png": "[encoded data removed]",
      "text/plain": [
       "<Figure size 1440x360 with 2 Axes>"
      ]
     },
     "metadata": {
      "needs_background": "light"
     },
     "output_type": "display_data"
    }
   ],
   "source": [
    "\n",
    "#a). Age\n",
    "    #Define graph figure size\n",
    "mp.subplots(figsize = (20, 5))\n",
    "\n",
    "    #Plot for Yellow Cab Clients Count against Age. Bins = 5\n",
    "mp.subplot(1,2,1)\n",
    "mp.hist(main_dataset[main_dataset['Company'] == 'Yellow Cab']['Age'], bins = 5, edgecolor='white')\n",
    "mp.xlabel('Yellow Cab_Age Groups')\n",
    "\n",
    "    #Plot for Pink Cab Clients Count against Age. Bins = 5\n",
    "mp.subplot(1,2,2)\n",
    "mp.hist(main_dataset[main_dataset['Company'] == 'Pink Cab']['Age'], bins = 5, edgecolor='white')\n",
    "mp.xlabel('Pink Cab_Age Groups')\n",
    "\n",
    "mp.show()\n",
    "\n",
    "#Results for Hypothesis 2a: True. Both Cabs have similarly distributed client base, based on Age"
   ]
  },
  {
   "cell_type": "code",
   "execution_count": 93,
   "id": "b23fffd4-a5ad-442c-9530-96f55428c14c",
   "metadata": {},
   "outputs": [
    {
     "data": {
      "text/plain": [
       "<AxesSubplot:xlabel='Company', ylabel='count'>"
      ]
     },
     "execution_count": 93,
     "metadata": {},
     "output_type": "execute_result"
    },
    {
     "data": {
      "image/png": "[encoded data removed]",
      "text/plain": [
       "<Figure size 432x288 with 1 Axes>"
      ]
     },
     "metadata": {
      "needs_background": "light"
     },
     "output_type": "display_data"
    }
   ],
   "source": [
    "#b). Gender\n",
    "\n",
    "sb.countplot(\n",
    "    x = main_dataset.Company, \n",
    "    hue = main_dataset['Gender'],\n",
    "    )\n",
    "\n",
    "\n",
    "#Result for Hypothesis 2b: True. Both Cab Companies have similar ratios in Client gender distribution  "
   ]
  },
  {
   "cell_type": "markdown",
   "id": "6b8ff752-1803-49aa-8f28-427d05d483aa",
   "metadata": {},
   "source": [
    "\n"
   ]
  },
  {
   "cell_type": "code",
   "execution_count": 94,
   "id": "2b797407-41a8-4207-9f5f-e03bbc99581a",
   "metadata": {},
   "outputs": [
    {
     "data": {
      "text/plain": [
       "Text(0.5, 0, 'Pink Cab_Clients Income')"
      ]
     },
     "execution_count": 94,
     "metadata": {},
     "output_type": "execute_result"
    },
    {
     "data": {
      "image/png": "[encoded data removed]",
      "text/plain": [
       "<Figure size 1440x360 with 2 Axes>"
      ]
     },
     "metadata": {
      "needs_background": "light"
     },
     "output_type": "display_data"
    }
   ],
   "source": [
    "#c). Income\n",
    "\n",
    "mp.subplots(figsize = (20,5))\n",
    "\n",
    "mp.subplot(1,2,1)\n",
    "mp.hist(main_dataset[main_dataset['Company'] == 'Yellow Cab']['Income (USD/Month)'], bins = 15, edgecolor = 'white')\n",
    "mp.xlabel('Yellow Cab_Clients Income')\n",
    "\n",
    "\n",
    "mp.subplot(1,2,2)\n",
    "mp.hist(main_dataset[main_dataset['Company'] == 'Pink Cab']['Income (USD/Month)'], bins = 15, edgecolor = 'white')\n",
    "mp.xlabel('Pink Cab_Clients Income')\n",
    "\n",
    "#Results of Hypothesis 6: False. Both Cabs have a similarly distributed range of clinets based on Income"
   ]
  },
  {
   "cell_type": "code",
   "execution_count": 95,
   "id": "db202963-ab4c-4674-a91b-9501ac7d5d81",
   "metadata": {},
   "outputs": [
    {
     "data": {
      "text/plain": [
       "<AxesSubplot:ylabel='City'>"
      ]
     },
     "execution_count": 95,
     "metadata": {},
     "output_type": "execute_result"
    },
    {
     "data": {
      "image/png": "[encoded data removed]",
      "text/plain": [
       "<Figure size 432x288 with 1 Axes>"
      ]
     },
     "metadata": {
      "needs_background": "light"
     },
     "output_type": "display_data"
    }
   ],
   "source": [
    "# d). Location\n",
    "\n",
    "\n",
    "\n",
    "from collections import Counter\n",
    "Counter(main_dataset.City).values()\n",
    "\n",
    "#count duplicates\n",
    "\n",
    "# fig, ax = mp.subplots()\n",
    "\n",
    "# ax.bar(main_dataset['City'], Counter(main_dataset['City']).values(), label = \"City\")\n",
    "\n",
    "    #Number of transactions per City for Yellow Cab\n",
    "yellow_transactions_city = dict(Counter(main_dataset[main_dataset.Company == 'Yellow Cab'].City))\n",
    "    #Number of transactions per City for Pink Cab\n",
    "pink_transactions_city = dict(Counter(main_dataset[main_dataset.Company == 'Pink Cab'].City))\n",
    "\n",
    "\n",
    "pd.DataFrame(\n",
    "     {\n",
    "    'City': list(Counter(main_dataset[main_dataset.Company == 'Pink Cab'].City).keys()),\n",
    "    'Yellow Cab Mrkt Share': list(Counter(main_dataset[main_dataset.Company == 'Yellow Cab'].City).values()),\n",
    "    'Pink Cab Mrkt Share': list(Counter(main_dataset[main_dataset.Company == 'Pink Cab'].City).values()),\n",
    "\n",
    "}\n",
    ").plot.barh(x = 'City', stacked = True)\n",
    "\n",
    "\n",
    "\n",
    "#Reuslts for Hypothesis 2c:"
   ]
  },
  {
   "cell_type": "markdown",
   "id": "51be0739-2940-4f60-b6d5-aa2831b463ae",
   "metadata": {},
   "source": [
    "## Hypothesis 3: Pink Cab charges higher per KM than Yellow Cab"
   ]
  },
  {
   "cell_type": "markdown",
   "id": "3cfc8bc2-f750-487e-80b9-28a40785ca25",
   "metadata": {},
   "source": [
    "## Hypothesis 4: Pink Cab has a higher Turnover per KM than Yellow Cab"
   ]
  },
  {
   "cell_type": "code",
   "execution_count": 96,
   "id": "635294e4-ed49-4f98-9567-99790b475665",
   "metadata": {},
   "outputs": [
    {
     "data": {
      "text/html": [
       "<div>\n",
       "<style scoped>\n",
       "    .dataframe tbody tr th:only-of-type {\n",
       "        vertical-align: middle;\n",
       "    }\n",
       "\n",
       "    .dataframe tbody tr th {\n",
       "        vertical-align: top;\n",
       "    }\n",
       "\n",
       "    .dataframe thead th {\n",
       "        text-align: right;\n",
       "    }\n",
       "</style>\n",
       "<table border=\"1\" class=\"dataframe\">\n",
       "  <thead>\n",
       "    <tr style=\"text-align: right;\">\n",
       "      <th></th>\n",
       "      <th>Cost per KM Pink</th>\n",
       "      <th>Price per KM Pink</th>\n",
       "      <th>Cost per KM Yellow</th>\n",
       "      <th>Price per KM Yellow</th>\n",
       "    </tr>\n",
       "  </thead>\n",
       "  <tbody>\n",
       "    <tr>\n",
       "      <th>count</th>\n",
       "      <td>84711.000000</td>\n",
       "      <td>84711.000000</td>\n",
       "      <td>274681.000000</td>\n",
       "      <td>274681.000000</td>\n",
       "    </tr>\n",
       "    <tr>\n",
       "      <th>mean</th>\n",
       "      <td>10.998602</td>\n",
       "      <td>13.768510</td>\n",
       "      <td>13.200565</td>\n",
       "      <td>20.306073</td>\n",
       "    </tr>\n",
       "    <tr>\n",
       "      <th>std</th>\n",
       "      <td>0.606598</td>\n",
       "      <td>2.631528</td>\n",
       "      <td>0.726940</td>\n",
       "      <td>5.745021</td>\n",
       "    </tr>\n",
       "    <tr>\n",
       "      <th>min</th>\n",
       "      <td>10.000000</td>\n",
       "      <td>6.338621</td>\n",
       "      <td>12.000000</td>\n",
       "      <td>9.161765</td>\n",
       "    </tr>\n",
       "    <tr>\n",
       "      <th>25%</th>\n",
       "      <td>10.500000</td>\n",
       "      <td>11.937046</td>\n",
       "      <td>12.600000</td>\n",
       "      <td>15.805288</td>\n",
       "    </tr>\n",
       "    <tr>\n",
       "      <th>50%</th>\n",
       "      <td>11.000000</td>\n",
       "      <td>13.396096</td>\n",
       "      <td>13.200000</td>\n",
       "      <td>18.753655</td>\n",
       "    </tr>\n",
       "    <tr>\n",
       "      <th>75%</th>\n",
       "      <td>11.500000</td>\n",
       "      <td>15.232716</td>\n",
       "      <td>13.800000</td>\n",
       "      <td>24.100763</td>\n",
       "    </tr>\n",
       "    <tr>\n",
       "      <th>max</th>\n",
       "      <td>12.000000</td>\n",
       "      <td>39.046939</td>\n",
       "      <td>14.400000</td>\n",
       "      <td>53.955556</td>\n",
       "    </tr>\n",
       "  </tbody>\n",
       "</table>\n",
       "</div>"
      ],
      "text/plain": [
       "       Cost per KM Pink  Price per KM Pink  Cost per KM Yellow  \\\n",
       "count      84711.000000       84711.000000       274681.000000   \n",
       "mean          10.998602          13.768510           13.200565   \n",
       "std            0.606598           2.631528            0.726940   \n",
       "min           10.000000           6.338621           12.000000   \n",
       "25%           10.500000          11.937046           12.600000   \n",
       "50%           11.000000          13.396096           13.200000   \n",
       "75%           11.500000          15.232716           13.800000   \n",
       "max           12.000000          39.046939           14.400000   \n",
       "\n",
       "       Price per KM Yellow  \n",
       "count        274681.000000  \n",
       "mean             20.306073  \n",
       "std               5.745021  \n",
       "min               9.161765  \n",
       "25%              15.805288  \n",
       "50%              18.753655  \n",
       "75%              24.100763  \n",
       "max              53.955556  "
      ]
     },
     "execution_count": 96,
     "metadata": {},
     "output_type": "execute_result"
    }
   ],
   "source": [
    "# Create a merge of the describe() fn for Yellow & Pink Cabs on their Cost per KM & Price per KM\n",
    "pd.merge(\n",
    "    main_dataset[main_dataset['Company'] == 'Pink Cab'][['Cost per KM','Price per KM']].describe(),\n",
    "    main_dataset[main_dataset['Company'] == 'Yellow Cab'][['Cost per KM', 'Price per KM']].describe(),\n",
    "    right_index = True,\n",
    "    left_index = True,\n",
    "    suffixes = (' Pink',' Yellow')\n",
    ")\n",
    "\n",
    "\n",
    "#Results for Hypothesis 3: False. Pink Cab charges lower than Yellow Cab\n",
    "#Results for Hypothesis 4: False. Pink Cab receives a lower Turnover per KM than Yellow Cab"
   ]
  },
  {
   "cell_type": "code",
   "execution_count": 97,
   "id": "9b9b5384-c8d5-4c67-9bb8-80921793a848",
   "metadata": {},
   "outputs": [
    {
     "data": {
      "text/plain": [
       "<AxesSubplot:ylabel='City'>"
      ]
     },
     "execution_count": 97,
     "metadata": {},
     "output_type": "execute_result"
    },
    {
     "data": {
      "image/png": "[encoded data removed]",
      "text/plain": [
       "<Figure size 432x288 with 1 Axes>"
      ]
     },
     "metadata": {
      "needs_background": "light"
     },
     "output_type": "display_data"
    }
   ],
   "source": [
    "    #create DataFrame based on Yellow Cab's Annual Transactions (2016, 2017, 2018)\n",
    "pd.DataFrame(\n",
    "    {   \n",
    "        'City':         list(Counter(main_dataset[\n",
    "                                    (main_dataset['Company'].isin(['Yellow Cab'])) & \n",
    "                                    (main_dataset['Date of Travel'] < datetime.datetime(2017,12,31))].City\n",
    "                                    )), \n",
    "        'Yellow_2016': list(Counter(main_dataset[\n",
    "                                    (main_dataset['Company'].isin(['Yellow Cab'])) & \n",
    "                                    (main_dataset['Date of Travel'] < datetime.datetime(2016,12,31))].City\n",
    "                                    ).values()),\n",
    "        'Yellow_2017': list(Counter(main_dataset[\n",
    "                                    (main_dataset['Company'].isin(['Yellow Cab'])) & \n",
    "                                    (main_dataset['Date of Travel'] > datetime.datetime(2016,12,31)) &\n",
    "                                    (main_dataset['Date of Travel'] < datetime.datetime(2017,12,31))].City\n",
    "                                    ).values()),\n",
    "        'Yellow_2018': list(Counter(main_dataset[\n",
    "                                    (main_dataset['Company'].isin(['Yellow Cab'])) & \n",
    "                                    (main_dataset['Date of Travel'] > datetime.datetime(2017,12,31)) &\n",
    "                                    (main_dataset['Date of Travel'] < datetime.datetime(2018,12,31))].City\n",
    "                                    ).values())\n",
    "    }\n",
    ").plot.barh(x = 'City', stacked = True) #plot stacked Bar graph"
   ]
  },
  {
   "cell_type": "code",
   "execution_count": 98,
   "id": "e0003d8c-985a-43e5-b96a-2d8eed7f3780",
   "metadata": {},
   "outputs": [
    {
     "data": {
      "text/plain": [
       "<AxesSubplot:ylabel='City'>"
      ]
     },
     "execution_count": 98,
     "metadata": {},
     "output_type": "execute_result"
    },
    {
     "data": {
      "image/png": "[encoded data removed]",
      "text/plain": [
       "<Figure size 432x288 with 1 Axes>"
      ]
     },
     "metadata": {
      "needs_background": "light"
     },
     "output_type": "display_data"
    }
   ],
   "source": [
    "#create DataFrame based on Pink Cab's Annual Transactions (2016, 2017, 2018)\n",
    "pd.DataFrame(\n",
    "    {   \n",
    "        'City':         list(Counter(main_dataset[\n",
    "                                    (main_dataset['Company'].isin(['Pink Cab'])) & \n",
    "                                    (main_dataset['Date of Travel'] < datetime.datetime(2017,12,31))].City\n",
    "                                    )), \n",
    "        'Pink_2016': list(Counter(main_dataset[\n",
    "                                    (main_dataset['Company'].isin(['Pink Cab'])) & \n",
    "                                    (main_dataset['Date of Travel'] < datetime.datetime(2016,12,31))].City\n",
    "                                    ).values()),\n",
    "        'Pink_2017': list(Counter(main_dataset[\n",
    "                                    (main_dataset['Company'].isin(['Pink Cab'])) & \n",
    "                                    (main_dataset['Date of Travel'] > datetime.datetime(2016,12,31)) &\n",
    "                                    (main_dataset['Date of Travel'] < datetime.datetime(2017,12,31))].City\n",
    "                                    ).values()),\n",
    "        'Pink_2018': list(Counter(main_dataset[\n",
    "                                    (main_dataset['Company'].isin(['Pink Cab'])) & \n",
    "                                    (main_dataset['Date of Travel'] > datetime.datetime(2017,12,31)) &\n",
    "                                    (main_dataset['Date of Travel'] < datetime.datetime(2018,12,31))].City\n",
    "                                    ).values())\n",
    "    }\n",
    ").plot.barh(x = 'City', stacked = True)"
   ]
  },
  {
   "cell_type": "markdown",
   "id": "2ef4a979-53e6-4eb3-a224-b5dfd73c44ed",
   "metadata": {},
   "source": [
    "## Conclusion"
   ]
  },
  {
   "cell_type": "markdown",
   "id": "1d0bca91-e8ba-4705-bf95-42bef253d8b6",
   "metadata": {},
   "source": [
    "Pink cab is still in transition of joining the market, evident by its smaller market share in comparison to Yellow Cab. This is also evident by its lower price per KM, to serve as an incentive for market disruption.\n",
    "\n",
    "Regardless, based on the analysis, we recommend the best investment to be in Yellow Cab, which demonstrates longer experience in the market sector, with a loyal clientele, & greater margins per prospective transaction."
   ]
  },
  {
   "cell_type": "code",
   "execution_count": null,
   "id": "4731219e-e24d-42b4-bb72-269525614b40",
   "metadata": {},
   "outputs": [],
   "source": []
  }
 ],
 "metadata": {
  "kernelspec": {
   "display_name": "Python 3 (ipykernel)",
   "language": "python",
   "name": "python3"
  },
  "language_info": {
   "codemirror_mode": {
    "name": "ipython",
    "version": 3
   },
   "file_extension": ".py",
   "mimetype": "text/x-python",
   "name": "python",
   "nbconvert_exporter": "python",
   "pygments_lexer": "ipython3",
   "version": "3.9.7"
  }
 },
 "nbformat": 4,
 "nbformat_minor": 5
}
